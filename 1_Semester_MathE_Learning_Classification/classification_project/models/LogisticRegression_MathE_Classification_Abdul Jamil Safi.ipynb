{
 "cells": [
  {
   "cell_type": "code",
   "execution_count": 1,
   "id": "ca9c4d59-c014-43e7-aa6a-d12cfab01139",
   "metadata": {
    "scrolled": true
   },
   "outputs": [
    {
     "name": "stdout",
     "output_type": "stream",
     "text": [
      "Daten erfolgreich geladen:\n",
      "   Student ID  Student Country  Question ID  Type of Answer  Question Level  \\\n",
      "0         647                0           77               0               1   \n",
      "1          41                3           77               1               1   \n",
      "2         340                3           77               1               1   \n",
      "3         641                1           77               0               1   \n",
      "4         669                3           77               1               1   \n",
      "\n",
      "   Topic   and inequalities   and total probability rules   equations  \\\n",
      "0     13                  0                             0           0   \n",
      "1     13                  0                             0           0   \n",
      "2     13                  0                             0           0   \n",
      "3     13                  0                             0           0   \n",
      "4     13                  0                             0           0   \n",
      "\n",
      "    image and graphics  ...  trigonometric substitution  \\\n",
      "0                    0  ...                           0   \n",
      "1                    0  ...                           0   \n",
      "2                    0  ...                           0   \n",
      "3                    0  ...                           0   \n",
      "4                    0  ...                           0   \n",
      "\n",
      "   unconstrained optimization  undetermined solution of linear system  \\\n",
      "0                           0                                       0   \n",
      "1                           0                                       0   \n",
      "2                           0                                       0   \n",
      "3                           0                                       0   \n",
      "4                           0                                       0   \n",
      "\n",
      "   union of sets  variance  vector spaces  venn diagram  volume of revolution  \\\n",
      "0              0         0              0             0                     0   \n",
      "1              0         0              0             0                     0   \n",
      "2              0         0              0             0                     0   \n",
      "3              0         0              0             0                     0   \n",
      "4              0         0              0             0                     0   \n",
      "\n",
      "   x-simple region (type ii)  y-simple region (type i)  \n",
      "0                          0                         0  \n",
      "1                          0                         0  \n",
      "2                          0                         0  \n",
      "3                          0                         0  \n",
      "4                          0                         0  \n",
      "\n",
      "[5 rows x 226 columns]\n"
     ]
    }
   ],
   "source": [
    "import pandas as pd\n",
    "from sklearn.model_selection import train_test_split\n",
    "from sklearn.linear_model import LogisticRegression\n",
    "from sklearn.metrics import classification_report, accuracy_score\n",
    "\n",
    "# Laden des verarbeiteten Datensatzes\n",
    "df = pd.read_csv('processed_dataset.csv')\n",
    "print(\"Daten erfolgreich geladen:\")\n",
    "print(df.head())"
   ]
  },
  {
   "cell_type": "code",
   "execution_count": 2,
   "id": "838279de-2f1b-4a47-be04-b149c425593b",
   "metadata": {},
   "outputs": [
    {
     "name": "stdout",
     "output_type": "stream",
     "text": [
      "Features und Zielvariable definiert:\n",
      "Features: ['Student ID', 'Student Country', 'Question ID', 'Question Level', 'Topic', ' and inequalities', ' and total probability rules', ' equations', ' image and graphics', ' integration by parts', ' multiplication', 'addition', 'adjacency matrix', 'algebraic expressions', 'algebraic form', 'analytic geometry', 'area ', 'area of a planar region ', 'assignment problem', 'axioms of probability', 'basis', \"bayes' theorem\", 'bernoulli equation', 'cartesian coordinates', 'cartesian equations of a line', 'cartesian equations of a plane', 'cauchy problem', 'chain rule', 'change-of-basis matrix', 'changing order of integration', 'characteristic polynomial', 'chi square distribution', 'chromatic number', 'classification of geometric solids', 'classification of geometrical figures', 'collinearity', 'commuting matrices', 'complement of a set', 'complex numbers', 'complex plane ', 'composition of linear applications', 'conditional probability', 'confidence interval', 'conjugate number', 'consistent system', 'continuity', 'cross product', 'cycle and circuit', 'data type', 'de moivre formulas', 'definite integrals', 'derivatives', 'determinant computation', 'determinant properties', 'diagonalization', 'differential equations', 'dimension', 'direct inspection', 'direct integrals ', 'directional derivative', 'distance', 'domain', 'double integration', 'duality theory', 'eigenvalue', 'eigenvalues and eigenvectors', 'eigenvector', 'elementary geometry', 'equations involving complex numbers', 'euclidean spaces', 'event', 'exact differential form', 'excel solver add-in', 'exponential function', 'exponential rule', 'first order', 'frequency', 'fundamental theorem of calculus', 'geometric solids', 'geometric transformations', 'geometrical figures', 'gradient', 'graph theory', 'graphical method', 'hermitian matrix', 'homogeneous equation', 'homogeneous system', 'hypothesis testing', 'image of a function', 'imaginary part', 'incidence matrix ', 'inconsistent system', 'independence', 'indeterminate forms', 'injective linear application', 'integral curve', 'integration by parts', 'integration techniques', 'interquartile range', 'intersection', 'inverse matrix ', 'invertible linear operator', 'isomorphism', 'iterate integrals', 'kernel', 'lagrange multipliers', \"lagrange's interpolation\", 'limits', 'limits and continuity', 'linear application', 'linear combination', 'linear dependence', 'linear differential equation', 'linear equations', 'linear independence', 'linear optimization', 'linear programming', 'linear regression', 'linear systems', 'linear transformations', 'linearity', 'linearly independent rows', 'locus', 'logarithmic function', 'logarithmic rule', 'matrices and determinants', 'matrix equivalent - echelon', 'matrix multiplication', 'matrix of a linear transformation', 'matrix operations', 'matrix rank', 'maximum', 'mean', 'median', 'minimum', 'mode', 'modulus of a complex number', 'newton\\x92s interpolation', 'newton\\x92s method', 'nonlinear equation', 'nonlinear optimization', 'nth root', 'numerical methods', 'operations with complex numbers', 'optimal solution', 'orthogonal basis', 'orthogonal projection', 'orthogonality', 'outliers', 'partial differentiation', 'partial fractions decomposition', 'path', 'planar graph', 'platonic solids', 'point estimate', 'polar representation', 'polygons', 'polyhedrons', 'polynomial interpolation', 'population', 'postoptimality analysis', 'power of trigonometric functions', 'power rule', 'principal argument', 'probability ', 'product rule', 'quadratic equations', 'quadrilaterals', 'quantile', 'quotient rule', 'range', 'rational functions', 'real part', 'regular polygon', 'relative frequency', 'rhombus', 'rotation', 'saddle point', 'sample', 'sample space', 'scalar product', 'second derivative test', 'second order', 'sensitivity analysis', 'separable variables equation', 'set theory', 'shortest path', 'simple graph', 'simple integration', 'simplex method', 'simplify expressions', 'solution of linear system', 'solve matrix equation', 'span', 'spanning tree', 'spectrum', 'square linear system', 'square roots', 'standard deviation', 'stationary point', 'statistics', 'stem and leaf diagram', 'student distribution', 'subset', 'subspace', 'substitution', 'sum rule', 'symmetric matrix', 'symmetry', 'transportation problem', 'tree', 'triangle inequality', 'triangles', 'trigonometric form', 'trigonometric rules', 'trigonometric substitution', 'unconstrained optimization', 'undetermined solution of linear system', 'union of sets', 'variance', 'vector spaces', 'venn diagram', 'volume of revolution', 'x-simple region (type ii)', 'y-simple region (type i)']\n",
      "Zielvariable: Type of Answer\n"
     ]
    }
   ],
   "source": [
    "# Zielvariable und Features trennen\n",
    "# Beispiel: Annahme, dass die Zielvariable in der letzten Spalte ist\n",
    "y = df['Type of Answer']  # Passen Sie den Namen an, falls erforderlich\n",
    "X = df.drop(columns=['Type of Answer'])  # Entfernen der Zielvariable aus den Features\n",
    "\n",
    "print(\"Features und Zielvariable definiert:\")\n",
    "print(f\"Features: {X.columns.tolist()}\")\n",
    "print(f\"Zielvariable: {y.name}\")\n"
   ]
  },
  {
   "cell_type": "code",
   "execution_count": 3,
   "id": "030dd436-98cb-4296-aa64-ebd9504af82b",
   "metadata": {},
   "outputs": [
    {
     "name": "stdout",
     "output_type": "stream",
     "text": [
      "Trainingsdaten: (7636, 225), Testdaten: (1910, 225)\n"
     ]
    }
   ],
   "source": [
    "# Aufteilen der Daten in Training und Test\n",
    "X_train, X_test, y_train, y_test = train_test_split(X, y, test_size=0.2, random_state=42)\n",
    "\n",
    "print(f\"Trainingsdaten: {X_train.shape}, Testdaten: {X_test.shape}\")\n"
   ]
  },
  {
   "cell_type": "code",
   "execution_count": 4,
   "id": "0ec1840e-7509-4d7a-a6aa-410bd0fc02e9",
   "metadata": {},
   "outputs": [
    {
     "name": "stdout",
     "output_type": "stream",
     "text": [
      "Modell erfolgreich trainiert.\n"
     ]
    },
    {
     "name": "stderr",
     "output_type": "stream",
     "text": [
      "/opt/anaconda3/lib/python3.12/site-packages/sklearn/linear_model/_logistic.py:469: ConvergenceWarning: lbfgs failed to converge (status=1):\n",
      "STOP: TOTAL NO. of ITERATIONS REACHED LIMIT.\n",
      "\n",
      "Increase the number of iterations (max_iter) or scale the data as shown in:\n",
      "    https://scikit-learn.org/stable/modules/preprocessing.html\n",
      "Please also refer to the documentation for alternative solver options:\n",
      "    https://scikit-learn.org/stable/modules/linear_model.html#logistic-regression\n",
      "  n_iter_i = _check_optimize_result(\n"
     ]
    }
   ],
   "source": [
    "# Logistische Regression initialisieren und trainieren\n",
    "model = LogisticRegression(max_iter=1000, random_state=42)\n",
    "model.fit(X_train, y_train)\n",
    "\n",
    "print(\"Modell erfolgreich trainiert.\")\n"
   ]
  },
  {
   "cell_type": "code",
   "execution_count": 5,
   "id": "b1840573-e823-4659-b7d2-cb64ab86988b",
   "metadata": {},
   "outputs": [
    {
     "name": "stdout",
     "output_type": "stream",
     "text": [
      "Modellbewertung:\n",
      "Genauigkeit: 0.57\n",
      "\n",
      "Klassifikationsbericht:\n",
      "              precision    recall  f1-score   support\n",
      "\n",
      "           0       0.58      0.68      0.62      1002\n",
      "           1       0.56      0.45      0.50       908\n",
      "\n",
      "    accuracy                           0.57      1910\n",
      "   macro avg       0.57      0.56      0.56      1910\n",
      "weighted avg       0.57      0.57      0.56      1910\n",
      "\n"
     ]
    }
   ],
   "source": [
    "# Vorhersagen auf Testdaten\n",
    "y_pred = model.predict(X_test)\n",
    "\n",
    "# Genauigkeit und Bericht\n",
    "print(\"Modellbewertung:\")\n",
    "print(f\"Genauigkeit: {accuracy_score(y_test, y_pred):.2f}\")\n",
    "print(\"\\nKlassifikationsbericht:\")\n",
    "print(classification_report(y_test, y_pred))\n"
   ]
  },
  {
   "cell_type": "code",
   "execution_count": 7,
   "id": "7b4fc6ae-20d6-414b-95e8-1f5acd8eee7e",
   "metadata": {},
   "outputs": [
    {
     "name": "stdout",
     "output_type": "stream",
     "text": [
      "Trainingsdaten vor SMOTE: (7636, 225), nach SMOTE: (8148, 225)\n",
      "Nach Anwendung von SMOTE:\n",
      "              precision    recall  f1-score   support\n",
      "\n",
      "           0       0.57      0.55      0.56      1002\n",
      "           1       0.52      0.54      0.53       908\n",
      "\n",
      "    accuracy                           0.54      1910\n",
      "   macro avg       0.54      0.54      0.54      1910\n",
      "weighted avg       0.54      0.54      0.54      1910\n",
      "\n"
     ]
    },
    {
     "name": "stderr",
     "output_type": "stream",
     "text": [
      "/opt/anaconda3/lib/python3.12/site-packages/sklearn/linear_model/_logistic.py:469: ConvergenceWarning: lbfgs failed to converge (status=1):\n",
      "STOP: TOTAL NO. of ITERATIONS REACHED LIMIT.\n",
      "\n",
      "Increase the number of iterations (max_iter) or scale the data as shown in:\n",
      "    https://scikit-learn.org/stable/modules/preprocessing.html\n",
      "Please also refer to the documentation for alternative solver options:\n",
      "    https://scikit-learn.org/stable/modules/linear_model.html#logistic-regression\n",
      "  n_iter_i = _check_optimize_result(\n"
     ]
    }
   ],
   "source": [
    "from imblearn.over_sampling import SMOTE\n",
    "\n",
    "# SMOTE anwenden\n",
    "smote = SMOTE(random_state=42)\n",
    "X_resampled, y_resampled = smote.fit_resample(X_train, y_train)\n",
    "\n",
    "print(f\"Trainingsdaten vor SMOTE: {X_train.shape}, nach SMOTE: {X_resampled.shape}\")\n",
    "\n",
    "# Modell erneut trainieren\n",
    "model.fit(X_resampled, y_resampled)\n",
    "y_pred_resampled = model.predict(X_test)\n",
    "\n",
    "# Neue Bewertung\n",
    "from sklearn.metrics import classification_report\n",
    "print(\"Nach Anwendung von SMOTE:\")\n",
    "print(classification_report(y_test, y_pred_resampled))\n"
   ]
  },
  {
   "cell_type": "code",
   "execution_count": 8,
   "id": "7ef64dca-c752-45af-8b2f-8f4f2204e231",
   "metadata": {},
   "outputs": [
    {
     "name": "stdout",
     "output_type": "stream",
     "text": [
      "Modell mit gewichteten Klassen:\n",
      "              precision    recall  f1-score   support\n",
      "\n",
      "           0       0.58      0.55      0.56      1002\n",
      "           1       0.53      0.56      0.54       908\n",
      "\n",
      "    accuracy                           0.55      1910\n",
      "   macro avg       0.55      0.55      0.55      1910\n",
      "weighted avg       0.55      0.55      0.55      1910\n",
      "\n"
     ]
    },
    {
     "name": "stderr",
     "output_type": "stream",
     "text": [
      "/opt/anaconda3/lib/python3.12/site-packages/sklearn/linear_model/_logistic.py:469: ConvergenceWarning: lbfgs failed to converge (status=1):\n",
      "STOP: TOTAL NO. of ITERATIONS REACHED LIMIT.\n",
      "\n",
      "Increase the number of iterations (max_iter) or scale the data as shown in:\n",
      "    https://scikit-learn.org/stable/modules/preprocessing.html\n",
      "Please also refer to the documentation for alternative solver options:\n",
      "    https://scikit-learn.org/stable/modules/linear_model.html#logistic-regression\n",
      "  n_iter_i = _check_optimize_result(\n"
     ]
    }
   ],
   "source": [
    "# Modell mit Gewichtung trainieren\n",
    "model_weighted = LogisticRegression(class_weight='balanced', max_iter=1000, random_state=42)\n",
    "model_weighted.fit(X_train, y_train)\n",
    "\n",
    "# Bewertung\n",
    "y_pred_weighted = model_weighted.predict(X_test)\n",
    "print(\"Modell mit gewichteten Klassen:\")\n",
    "print(classification_report(y_test, y_pred_weighted))\n"
   ]
  },
  {
   "cell_type": "code",
   "execution_count": 9,
   "id": "69cfdd0b-4a98-4607-97cd-51e4fadafe93",
   "metadata": {},
   "outputs": [
    {
     "name": "stdout",
     "output_type": "stream",
     "text": [
      "Nach Skalierung:\n",
      "              precision    recall  f1-score   support\n",
      "\n",
      "           0       0.57      0.68      0.62      1002\n",
      "           1       0.56      0.44      0.49       908\n",
      "\n",
      "    accuracy                           0.57      1910\n",
      "   macro avg       0.57      0.56      0.56      1910\n",
      "weighted avg       0.57      0.57      0.56      1910\n",
      "\n"
     ]
    }
   ],
   "source": [
    "from sklearn.preprocessing import StandardScaler\n",
    "\n",
    "scaler = StandardScaler()\n",
    "X_train_scaled = scaler.fit_transform(X_train)\n",
    "X_test_scaled = scaler.transform(X_test)\n",
    "\n",
    "# Modell erneut trainieren\n",
    "model.fit(X_train_scaled, y_train)\n",
    "y_pred_scaled = model.predict(X_test_scaled)\n",
    "\n",
    "print(\"Nach Skalierung:\")\n",
    "print(classification_report(y_test, y_pred_scaled))\n"
   ]
  }
 ],
 "metadata": {
  "kernelspec": {
   "display_name": "Python 3 (ipykernel)",
   "language": "python",
   "name": "python3"
  },
  "language_info": {
   "codemirror_mode": {
    "name": "ipython",
    "version": 3
   },
   "file_extension": ".py",
   "mimetype": "text/x-python",
   "name": "python",
   "nbconvert_exporter": "python",
   "pygments_lexer": "ipython3",
   "version": "3.12.7"
  }
 },
 "nbformat": 4,
 "nbformat_minor": 5
}
